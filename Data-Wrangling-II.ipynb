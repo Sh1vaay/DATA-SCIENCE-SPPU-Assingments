{
 "cells": [
  {
   "attachments": {},
   "cell_type": "markdown",
   "id": "e35bbd19",
   "metadata": {},
   "source": [
    "# DATA SCIENCE LAB ASSINGMENT0-2\n",
    "## _ABHISHEK_SUTAR\n",
    "\n",
    "## 2) Data Wrangling II\n",
    "\n",
    "## Create an “Academic performance” dataset of students and perform the following operations using Python.\n",
    "\n",
    "\n",
    "1. Scan all variables for missing values and inconsistencies. If there are missing values and/or inconsistencies, use any of the suitable techniques to deal with them.\n",
    "2. Scan all numeric variables for outliers. If there are outliers, use any of the suitable techniques to deal with them.\n",
    "3. Apply data transformations on at least one of the variables. The purpose of this transformation should be one of the following reasons: to change the scale for better understanding of the variable, to convert a non-linear relation into a linear one, or to decrease the skewness and convert the distribution into a normal distribution.\n",
    "Reason and document your approach properly."
   ]
  },
  {
   "cell_type": "code",
   "execution_count": 1,
   "id": "67f77fd6",
   "metadata": {},
   "outputs": [
    {
     "name": "stdout",
     "output_type": "stream",
     "text": [
      "    Rollno   Phy   Chem  Math   Bio\n",
      "0      1.0   4.0    4.0  53.0   2.0\n",
      "1      2.0   5.0   23.0   5.0   3.0\n",
      "2      3.0   2.0    6.0   1.0   1.0\n",
      "3      4.0   6.0    2.0   5.0   6.0\n",
      "4      5.0   8.0    1.0   7.0   8.0\n",
      "5      6.0  20.0    8.0   3.0   NaN\n",
      "6      7.0   7.0   55.0   2.0   2.0\n",
      "7      8.0   NaN    5.0   8.0   NaN\n",
      "8      9.0   3.0  213.0   5.0   5.0\n",
      "9     10.0   8.0    5.0  10.0   6.0\n",
      "10    11.0   2.0    3.0  34.0  43.0\n",
      "11    12.0   7.0    8.0   3.0   7.0\n",
      "12    13.0   5.0    3.0   2.0   9.0\n",
      "13    14.0   NaN    0.0   7.0   3.0\n",
      "14    15.0   0.0    1.0   9.0   6.0\n",
      "15     NaN   NaN    NaN   NaN   NaN\n"
     ]
    }
   ],
   "source": [
    "#Importing the libraries and reading the data file\n",
    "\n",
    "import numpy as np\n",
    "import pandas as pd\n",
    "\n",
    "\n",
    "df= pd.read_csv(\"/home/admin1/Downloads/marks.csv\")\n",
    "print(df)"
   ]
  },
  {
   "cell_type": "code",
   "execution_count": 2,
   "id": "60ee673b",
   "metadata": {},
   "outputs": [
    {
     "data": {
      "text/html": [
       "<div>\n",
       "<style scoped>\n",
       "    .dataframe tbody tr th:only-of-type {\n",
       "        vertical-align: middle;\n",
       "    }\n",
       "\n",
       "    .dataframe tbody tr th {\n",
       "        vertical-align: top;\n",
       "    }\n",
       "\n",
       "    .dataframe thead th {\n",
       "        text-align: right;\n",
       "    }\n",
       "</style>\n",
       "<table border=\"1\" class=\"dataframe\">\n",
       "  <thead>\n",
       "    <tr style=\"text-align: right;\">\n",
       "      <th></th>\n",
       "      <th>Rollno</th>\n",
       "      <th>Phy</th>\n",
       "      <th>Chem</th>\n",
       "      <th>Math</th>\n",
       "      <th>Bio</th>\n",
       "    </tr>\n",
       "  </thead>\n",
       "  <tbody>\n",
       "    <tr>\n",
       "      <th>count</th>\n",
       "      <td>15.000000</td>\n",
       "      <td>13.000000</td>\n",
       "      <td>15.000000</td>\n",
       "      <td>15.000000</td>\n",
       "      <td>13.000000</td>\n",
       "    </tr>\n",
       "    <tr>\n",
       "      <th>mean</th>\n",
       "      <td>8.000000</td>\n",
       "      <td>5.923077</td>\n",
       "      <td>22.466667</td>\n",
       "      <td>10.266667</td>\n",
       "      <td>7.769231</td>\n",
       "    </tr>\n",
       "    <tr>\n",
       "      <th>std</th>\n",
       "      <td>4.472136</td>\n",
       "      <td>4.906824</td>\n",
       "      <td>54.514568</td>\n",
       "      <td>14.215016</td>\n",
       "      <td>10.871629</td>\n",
       "    </tr>\n",
       "    <tr>\n",
       "      <th>min</th>\n",
       "      <td>1.000000</td>\n",
       "      <td>0.000000</td>\n",
       "      <td>0.000000</td>\n",
       "      <td>1.000000</td>\n",
       "      <td>1.000000</td>\n",
       "    </tr>\n",
       "    <tr>\n",
       "      <th>25%</th>\n",
       "      <td>4.500000</td>\n",
       "      <td>3.000000</td>\n",
       "      <td>2.500000</td>\n",
       "      <td>3.000000</td>\n",
       "      <td>3.000000</td>\n",
       "    </tr>\n",
       "    <tr>\n",
       "      <th>50%</th>\n",
       "      <td>8.000000</td>\n",
       "      <td>5.000000</td>\n",
       "      <td>5.000000</td>\n",
       "      <td>5.000000</td>\n",
       "      <td>6.000000</td>\n",
       "    </tr>\n",
       "    <tr>\n",
       "      <th>75%</th>\n",
       "      <td>11.500000</td>\n",
       "      <td>7.000000</td>\n",
       "      <td>8.000000</td>\n",
       "      <td>8.500000</td>\n",
       "      <td>7.000000</td>\n",
       "    </tr>\n",
       "    <tr>\n",
       "      <th>max</th>\n",
       "      <td>15.000000</td>\n",
       "      <td>20.000000</td>\n",
       "      <td>213.000000</td>\n",
       "      <td>53.000000</td>\n",
       "      <td>43.000000</td>\n",
       "    </tr>\n",
       "  </tbody>\n",
       "</table>\n",
       "</div>"
      ],
      "text/plain": [
       "          Rollno        Phy        Chem       Math        Bio\n",
       "count  15.000000  13.000000   15.000000  15.000000  13.000000\n",
       "mean    8.000000   5.923077   22.466667  10.266667   7.769231\n",
       "std     4.472136   4.906824   54.514568  14.215016  10.871629\n",
       "min     1.000000   0.000000    0.000000   1.000000   1.000000\n",
       "25%     4.500000   3.000000    2.500000   3.000000   3.000000\n",
       "50%     8.000000   5.000000    5.000000   5.000000   6.000000\n",
       "75%    11.500000   7.000000    8.000000   8.500000   7.000000\n",
       "max    15.000000  20.000000  213.000000  53.000000  43.000000"
      ]
     },
     "execution_count": 2,
     "metadata": {},
     "output_type": "execute_result"
    }
   ],
   "source": [
    "df.describe()"
   ]
  },
  {
   "cell_type": "code",
   "execution_count": 3,
   "id": "532e51e3",
   "metadata": {},
   "outputs": [
    {
     "data": {
      "text/html": [
       "<div>\n",
       "<style scoped>\n",
       "    .dataframe tbody tr th:only-of-type {\n",
       "        vertical-align: middle;\n",
       "    }\n",
       "\n",
       "    .dataframe tbody tr th {\n",
       "        vertical-align: top;\n",
       "    }\n",
       "\n",
       "    .dataframe thead th {\n",
       "        text-align: right;\n",
       "    }\n",
       "</style>\n",
       "<table border=\"1\" class=\"dataframe\">\n",
       "  <thead>\n",
       "    <tr style=\"text-align: right;\">\n",
       "      <th></th>\n",
       "      <th>Rollno</th>\n",
       "      <th>Phy</th>\n",
       "      <th>Chem</th>\n",
       "      <th>Math</th>\n",
       "      <th>Bio</th>\n",
       "    </tr>\n",
       "  </thead>\n",
       "  <tbody>\n",
       "    <tr>\n",
       "      <th>0</th>\n",
       "      <td>False</td>\n",
       "      <td>False</td>\n",
       "      <td>False</td>\n",
       "      <td>False</td>\n",
       "      <td>False</td>\n",
       "    </tr>\n",
       "    <tr>\n",
       "      <th>1</th>\n",
       "      <td>False</td>\n",
       "      <td>False</td>\n",
       "      <td>False</td>\n",
       "      <td>False</td>\n",
       "      <td>False</td>\n",
       "    </tr>\n",
       "    <tr>\n",
       "      <th>2</th>\n",
       "      <td>False</td>\n",
       "      <td>False</td>\n",
       "      <td>False</td>\n",
       "      <td>False</td>\n",
       "      <td>False</td>\n",
       "    </tr>\n",
       "    <tr>\n",
       "      <th>3</th>\n",
       "      <td>False</td>\n",
       "      <td>False</td>\n",
       "      <td>False</td>\n",
       "      <td>False</td>\n",
       "      <td>False</td>\n",
       "    </tr>\n",
       "    <tr>\n",
       "      <th>4</th>\n",
       "      <td>False</td>\n",
       "      <td>False</td>\n",
       "      <td>False</td>\n",
       "      <td>False</td>\n",
       "      <td>False</td>\n",
       "    </tr>\n",
       "    <tr>\n",
       "      <th>5</th>\n",
       "      <td>False</td>\n",
       "      <td>False</td>\n",
       "      <td>False</td>\n",
       "      <td>False</td>\n",
       "      <td>True</td>\n",
       "    </tr>\n",
       "    <tr>\n",
       "      <th>6</th>\n",
       "      <td>False</td>\n",
       "      <td>False</td>\n",
       "      <td>False</td>\n",
       "      <td>False</td>\n",
       "      <td>False</td>\n",
       "    </tr>\n",
       "    <tr>\n",
       "      <th>7</th>\n",
       "      <td>False</td>\n",
       "      <td>True</td>\n",
       "      <td>False</td>\n",
       "      <td>False</td>\n",
       "      <td>True</td>\n",
       "    </tr>\n",
       "    <tr>\n",
       "      <th>8</th>\n",
       "      <td>False</td>\n",
       "      <td>False</td>\n",
       "      <td>False</td>\n",
       "      <td>False</td>\n",
       "      <td>False</td>\n",
       "    </tr>\n",
       "    <tr>\n",
       "      <th>9</th>\n",
       "      <td>False</td>\n",
       "      <td>False</td>\n",
       "      <td>False</td>\n",
       "      <td>False</td>\n",
       "      <td>False</td>\n",
       "    </tr>\n",
       "    <tr>\n",
       "      <th>10</th>\n",
       "      <td>False</td>\n",
       "      <td>False</td>\n",
       "      <td>False</td>\n",
       "      <td>False</td>\n",
       "      <td>False</td>\n",
       "    </tr>\n",
       "    <tr>\n",
       "      <th>11</th>\n",
       "      <td>False</td>\n",
       "      <td>False</td>\n",
       "      <td>False</td>\n",
       "      <td>False</td>\n",
       "      <td>False</td>\n",
       "    </tr>\n",
       "    <tr>\n",
       "      <th>12</th>\n",
       "      <td>False</td>\n",
       "      <td>False</td>\n",
       "      <td>False</td>\n",
       "      <td>False</td>\n",
       "      <td>False</td>\n",
       "    </tr>\n",
       "    <tr>\n",
       "      <th>13</th>\n",
       "      <td>False</td>\n",
       "      <td>True</td>\n",
       "      <td>False</td>\n",
       "      <td>False</td>\n",
       "      <td>False</td>\n",
       "    </tr>\n",
       "    <tr>\n",
       "      <th>14</th>\n",
       "      <td>False</td>\n",
       "      <td>False</td>\n",
       "      <td>False</td>\n",
       "      <td>False</td>\n",
       "      <td>False</td>\n",
       "    </tr>\n",
       "    <tr>\n",
       "      <th>15</th>\n",
       "      <td>True</td>\n",
       "      <td>True</td>\n",
       "      <td>True</td>\n",
       "      <td>True</td>\n",
       "      <td>True</td>\n",
       "    </tr>\n",
       "  </tbody>\n",
       "</table>\n",
       "</div>"
      ],
      "text/plain": [
       "    Rollno    Phy   Chem   Math    Bio\n",
       "0    False  False  False  False  False\n",
       "1    False  False  False  False  False\n",
       "2    False  False  False  False  False\n",
       "3    False  False  False  False  False\n",
       "4    False  False  False  False  False\n",
       "5    False  False  False  False   True\n",
       "6    False  False  False  False  False\n",
       "7    False   True  False  False   True\n",
       "8    False  False  False  False  False\n",
       "9    False  False  False  False  False\n",
       "10   False  False  False  False  False\n",
       "11   False  False  False  False  False\n",
       "12   False  False  False  False  False\n",
       "13   False   True  False  False  False\n",
       "14   False  False  False  False  False\n",
       "15    True   True   True   True   True"
      ]
     },
     "execution_count": 3,
     "metadata": {},
     "output_type": "execute_result"
    }
   ],
   "source": [
    "df.isnull()"
   ]
  },
  {
   "cell_type": "code",
   "execution_count": 4,
   "id": "7e557f76",
   "metadata": {},
   "outputs": [
    {
     "name": "stdout",
     "output_type": "stream",
     "text": [
      "<class 'pandas.core.frame.DataFrame'>\n",
      "RangeIndex: 16 entries, 0 to 15\n",
      "Data columns (total 5 columns):\n",
      " #   Column  Non-Null Count  Dtype  \n",
      "---  ------  --------------  -----  \n",
      " 0   Rollno  15 non-null     float64\n",
      " 1   Phy     13 non-null     float64\n",
      " 2   Chem    15 non-null     float64\n",
      " 3   Math    15 non-null     float64\n",
      " 4   Bio     13 non-null     float64\n",
      "dtypes: float64(5)\n",
      "memory usage: 768.0 bytes\n"
     ]
    }
   ],
   "source": [
    "df.info()"
   ]
  },
  {
   "cell_type": "code",
   "execution_count": 5,
   "id": "6ee9bec8",
   "metadata": {},
   "outputs": [
    {
     "name": "stdout",
     "output_type": "stream",
     "text": [
      "5.923076923076923\n"
     ]
    }
   ],
   "source": [
    "#Dealing with Missing Values\n",
    "\n",
    "#Taking the mean and printing it\n",
    "mean_phy=df['Phy'].mean()\n",
    "print(mean_phy)"
   ]
  },
  {
   "cell_type": "code",
   "execution_count": 6,
   "id": "23e17617",
   "metadata": {},
   "outputs": [
    {
     "name": "stdout",
     "output_type": "stream",
     "text": [
      "    Rollno        Phy   Chem  Math   Bio\n",
      "0      1.0   4.000000    4.0  53.0   2.0\n",
      "1      2.0   5.000000   23.0   5.0   3.0\n",
      "2      3.0   2.000000    6.0   1.0   1.0\n",
      "3      4.0   6.000000    2.0   5.0   6.0\n",
      "4      5.0   8.000000    1.0   7.0   8.0\n",
      "5      6.0  20.000000    8.0   3.0   NaN\n",
      "6      7.0   7.000000   55.0   2.0   2.0\n",
      "7      8.0   5.923077    5.0   8.0   NaN\n",
      "8      9.0   3.000000  213.0   5.0   5.0\n",
      "9     10.0   8.000000    5.0  10.0   6.0\n",
      "10    11.0   2.000000    3.0  34.0  43.0\n",
      "11    12.0   7.000000    8.0   3.0   7.0\n",
      "12    13.0   5.000000    3.0   2.0   9.0\n",
      "13    14.0   5.923077    0.0   7.0   3.0\n",
      "14    15.0   0.000000    1.0   9.0   6.0\n",
      "15     NaN   5.923077    NaN   NaN   NaN\n"
     ]
    }
   ],
   "source": [
    "#Replacing the missing values in Phy column with the mean\n",
    "\n",
    "df['Phy'].fillna(value=mean_phy, inplace=True)\n",
    "print(df)"
   ]
  },
  {
   "cell_type": "code",
   "execution_count": 7,
   "id": "17676b36",
   "metadata": {},
   "outputs": [
    {
     "name": "stderr",
     "output_type": "stream",
     "text": [
      "/home/admin1/anaconda3/lib/python3.7/site-packages/ipykernel_launcher.py:8: UserWarning: \n",
      "\n",
      "`distplot` is a deprecated function and will be removed in seaborn v0.14.0.\n",
      "\n",
      "Please adapt your code to use either `displot` (a figure-level function with\n",
      "similar flexibility) or `histplot` (an axes-level function for histograms).\n",
      "\n",
      "For a guide to updating your code to use the new functions, please see\n",
      "https://gist.github.com/mwaskom/de44147ed2974457ad6372750bbe5751\n",
      "\n",
      "  \n"
     ]
    },
    {
     "data": {
      "text/plain": [
       "<AxesSubplot:xlabel='Phy', ylabel='Density'>"
      ]
     },
     "execution_count": 7,
     "metadata": {},
     "output_type": "execute_result"
    },
    {
     "data": {
      "image/png": "[encoded data removed]",
      "text/plain": [
       "<Figure size 640x480 with 1 Axes>"
      ]
     },
     "metadata": {},
     "output_type": "display_data"
    }
   ],
   "source": [
    "#Dealing with Outliers\n",
    "\n",
    "#Outliers Detection\n",
    "import seaborn as sn\n",
    "import matplotlib.pyplot as plt\n",
    "\n",
    "#Distribution Plot of Physics Column\n",
    "sn.distplot(df['Phy'])"
   ]
  },
  {
   "cell_type": "code",
   "execution_count": 8,
   "id": "148c1cbe",
   "metadata": {},
   "outputs": [
    {
     "data": {
      "text/plain": [
       "<AxesSubplot:ylabel='Phy'>"
      ]
     },
     "execution_count": 8,
     "metadata": {},
     "output_type": "execute_result"
    },
    {
     "data": {
      "image/png": "[encoded data removed]",
      "text/plain": [
       "<Figure size 640x480 with 1 Axes>"
      ]
     },
     "metadata": {},
     "output_type": "display_data"
    }
   ],
   "source": [
    "#Box Plot of Physics Column(the outliers are vissible here at 20)\n",
    "\n",
    "sn.boxplot(y='Phy', data=df)"
   ]
  },
  {
   "cell_type": "code",
   "execution_count": 9,
   "id": "37f08b5d",
   "metadata": {},
   "outputs": [
    {
     "data": {
      "text/plain": [
       "5.9230769230769225"
      ]
     },
     "execution_count": 9,
     "metadata": {},
     "output_type": "execute_result"
    }
   ],
   "source": [
    "#Taking the mean of the Physics Column\n",
    "\n",
    "df['Phy'].mean()"
   ]
  },
  {
   "cell_type": "code",
   "execution_count": 10,
   "id": "12051ec0",
   "metadata": {},
   "outputs": [],
   "source": [
    "#Removing the outliers (marks above 10)\n",
    "\n",
    "dfp=df[df['Phy']<10]"
   ]
  },
  {
   "cell_type": "code",
   "execution_count": 11,
   "id": "59a8d3a3",
   "metadata": {},
   "outputs": [
    {
     "data": {
      "text/plain": [
       "<AxesSubplot:ylabel='Phy'>"
      ]
     },
     "execution_count": 11,
     "metadata": {},
     "output_type": "execute_result"
    },
    {
     "data": {
      "image/png": "[encoded data removed]",
      "text/plain": [
       "<Figure size 640x480 with 1 Axes>"
      ]
     },
     "metadata": {},
     "output_type": "display_data"
    }
   ],
   "source": [
    "#Box Plot of new Physics Column (without outliers)\n",
    "\n",
    "sn.boxplot(y='Phy', data=dfp)"
   ]
  },
  {
   "cell_type": "code",
   "execution_count": 12,
   "id": "20c39c56",
   "metadata": {},
   "outputs": [
    {
     "data": {
      "text/plain": [
       "4.984615384615384"
      ]
     },
     "execution_count": 12,
     "metadata": {},
     "output_type": "execute_result"
    }
   ],
   "source": [
    "#New Mean\n",
    "\n",
    "dfp['Phy'].mean()"
   ]
  },
  {
   "cell_type": "code",
   "execution_count": 13,
   "id": "390a6c33",
   "metadata": {},
   "outputs": [
    {
     "name": "stdout",
     "output_type": "stream",
     "text": [
      "    Rollno       Phy   Chem  Math   Bio\n",
      "0      1.0  4.000000    4.0  53.0   2.0\n",
      "1      2.0  5.000000   23.0   5.0   3.0\n",
      "2      3.0  2.000000    6.0   1.0   1.0\n",
      "3      4.0  6.000000    2.0   5.0   6.0\n",
      "4      5.0  8.000000    1.0   7.0   8.0\n",
      "6      7.0  7.000000   55.0   2.0   2.0\n",
      "7      8.0  5.923077    5.0   8.0   NaN\n",
      "8      9.0  3.000000  213.0   5.0   5.0\n",
      "9     10.0  8.000000    5.0  10.0   6.0\n",
      "10    11.0  2.000000    3.0  34.0  43.0\n",
      "11    12.0  7.000000    8.0   3.0   7.0\n",
      "12    13.0  5.000000    3.0   2.0   9.0\n",
      "13    14.0  5.923077    0.0   7.0   3.0\n",
      "14    15.0  0.000000    1.0   9.0   6.0\n",
      "15     NaN  5.923077    NaN   NaN   NaN\n"
     ]
    }
   ],
   "source": [
    "#Answer with treated Physics Column (No missing as well as outlier data)\n",
    "\n",
    "print(dfp)"
   ]
  },
  {
   "cell_type": "code",
   "execution_count": 16,
   "id": "80920c25",
   "metadata": {},
   "outputs": [
    {
     "name": "stdout",
     "output_type": "stream",
     "text": [
      "7.769230769230769\n"
     ]
    }
   ],
   "source": [
    "# dealing with chem column\n",
    "mean_Bio=df['Bio'].mean()\n",
    "print(mean_Bio)"
   ]
  },
  {
   "cell_type": "code",
   "execution_count": 17,
   "id": "f2c9897c",
   "metadata": {},
   "outputs": [
    {
     "name": "stdout",
     "output_type": "stream",
     "text": [
      "    Rollno       Phy   Chem  Math        Bio\n",
      "0      1.0  4.000000    4.0  53.0   2.000000\n",
      "1      2.0  5.000000   23.0   5.0   3.000000\n",
      "2      3.0  2.000000    6.0   1.0   1.000000\n",
      "3      4.0  6.000000    2.0   5.0   6.000000\n",
      "4      5.0  8.000000    1.0   7.0   8.000000\n",
      "6      7.0  7.000000   55.0   2.0   2.000000\n",
      "7      8.0  5.923077    5.0   8.0   7.769231\n",
      "8      9.0  3.000000  213.0   5.0   5.000000\n",
      "9     10.0  8.000000    5.0  10.0   6.000000\n",
      "10    11.0  2.000000    3.0  34.0  43.000000\n",
      "11    12.0  7.000000    8.0   3.0   7.000000\n",
      "12    13.0  5.000000    3.0   2.0   9.000000\n",
      "13    14.0  5.923077    0.0   7.0   3.000000\n",
      "14    15.0  0.000000    1.0   9.0   6.000000\n",
      "15     NaN  5.923077    NaN   NaN   7.769231\n"
     ]
    },
    {
     "name": "stderr",
     "output_type": "stream",
     "text": [
      "/home/admin1/anaconda3/lib/python3.7/site-packages/pandas/core/generic.py:6392: SettingWithCopyWarning: \n",
      "A value is trying to be set on a copy of a slice from a DataFrame\n",
      "\n",
      "See the caveats in the documentation: https://pandas.pydata.org/pandas-docs/stable/user_guide/indexing.html#returning-a-view-versus-a-copy\n",
      "  return self._update_inplace(result)\n"
     ]
    }
   ],
   "source": [
    "#Replacing the missing values in Bio column with the mean\n",
    "\n",
    "dfp['Bio'].fillna(value=mean_Bio, inplace=True)\n",
    "print(dfp)"
   ]
  },
  {
   "cell_type": "code",
   "execution_count": 18,
   "id": "1bfe16e1",
   "metadata": {},
   "outputs": [],
   "source": [
    "#Dealing with Outliers\n",
    "\n",
    "#Outliers Detection\n",
    "import seaborn as sn\n",
    "import matplotlib.pyplot as plt"
   ]
  },
  {
   "cell_type": "code",
   "execution_count": 19,
   "id": "d44e0f98",
   "metadata": {},
   "outputs": [
    {
     "data": {
      "text/plain": [
       "<AxesSubplot:ylabel='Bio'>"
      ]
     },
     "execution_count": 19,
     "metadata": {},
     "output_type": "execute_result"
    },
    {
     "data": {
      "image/png": "[encoded data removed]",
      "text/plain": [
       "<Figure size 640x480 with 1 Axes>"
      ]
     },
     "metadata": {},
     "output_type": "display_data"
    }
   ],
   "source": [
    "#Box Plot of Biology Column(the outliers are vissible here at 43)\n",
    "\n",
    "sn.boxplot(y='Bio', data=dfp)"
   ]
  },
  {
   "cell_type": "code",
   "execution_count": 20,
   "id": "c50364c7",
   "metadata": {},
   "outputs": [
    {
     "data": {
      "text/plain": [
       "7.76923076923077"
      ]
     },
     "execution_count": 20,
     "metadata": {},
     "output_type": "execute_result"
    }
   ],
   "source": [
    "\n",
    "#Taking the mean of the Biology Column\n",
    "\n",
    "dfp['Bio'].mean()"
   ]
  },
  {
   "cell_type": "code",
   "execution_count": 21,
   "id": "e9cbafb0",
   "metadata": {},
   "outputs": [],
   "source": [
    "#Removing the outliers (marks above 43)\n",
    "\n",
    "dfpb=dfp[dfp['Bio']<43]"
   ]
  },
  {
   "cell_type": "code",
   "execution_count": 22,
   "id": "548c5b55",
   "metadata": {},
   "outputs": [
    {
     "data": {
      "text/plain": [
       "<AxesSubplot:ylabel='Bio'>"
      ]
     },
     "execution_count": 22,
     "metadata": {},
     "output_type": "execute_result"
    },
    {
     "data": {
      "image/png": "[encoded data removed]",
      "text/plain": [
       "<Figure size 640x480 with 1 Axes>"
      ]
     },
     "metadata": {},
     "output_type": "display_data"
    }
   ],
   "source": [
    "#Box Plot of new Biology Column (without outliers)\n",
    "\n",
    "sn.boxplot(y='Bio', data=dfpb)"
   ]
  },
  {
   "cell_type": "code",
   "execution_count": 23,
   "id": "5385ad7e",
   "metadata": {},
   "outputs": [
    {
     "data": {
      "text/plain": [
       "5.252747252747254"
      ]
     },
     "execution_count": 23,
     "metadata": {},
     "output_type": "execute_result"
    }
   ],
   "source": [
    "#New Mean\n",
    "\n",
    "dfpb['Bio'].mean()"
   ]
  },
  {
   "cell_type": "code",
   "execution_count": 25,
   "id": "21fb7cb9",
   "metadata": {},
   "outputs": [
    {
     "name": "stdout",
     "output_type": "stream",
     "text": [
      "    Rollno       Phy   Chem  Math       Bio\n",
      "0      1.0  4.000000    4.0  53.0  2.000000\n",
      "1      2.0  5.000000   23.0   5.0  3.000000\n",
      "2      3.0  2.000000    6.0   1.0  1.000000\n",
      "3      4.0  6.000000    2.0   5.0  6.000000\n",
      "4      5.0  8.000000    1.0   7.0  8.000000\n",
      "6      7.0  7.000000   55.0   2.0  2.000000\n",
      "7      8.0  5.923077    5.0   8.0  7.769231\n",
      "8      9.0  3.000000  213.0   5.0  5.000000\n",
      "9     10.0  8.000000    5.0  10.0  6.000000\n",
      "11    12.0  7.000000    8.0   3.0  7.000000\n",
      "12    13.0  5.000000    3.0   2.0  9.000000\n",
      "13    14.0  5.923077    0.0   7.0  3.000000\n",
      "14    15.0  0.000000    1.0   9.0  6.000000\n",
      "15     NaN  5.923077    NaN   NaN  7.769231\n"
     ]
    }
   ],
   "source": [
    "#Answer with treated Biology Column (No missing as well as outlier data)\n",
    "\n",
    "print(dfpb)"
   ]
  },
  {
   "cell_type": "code",
   "execution_count": null,
   "id": "f4cd99df",
   "metadata": {},
   "outputs": [],
   "source": []
  }
 ],
 "metadata": {
  "kernelspec": {
   "display_name": "Python 3 (ipykernel)",
   "language": "python",
   "name": "python3"
  },
  "language_info": {
   "codemirror_mode": {
    "name": "ipython",
    "version": 3
   },
   "file_extension": ".py",
   "mimetype": "text/x-python",
   "name": "python",
   "nbconvert_exporter": "python",
   "pygments_lexer": "ipython3",
   "version": "3.7.16"
  }
 },
 "nbformat": 4,
 "nbformat_minor": 5
}
